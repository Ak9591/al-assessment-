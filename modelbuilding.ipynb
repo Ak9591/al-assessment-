{
 "cells": [
  {
   "cell_type": "code",
   "execution_count": 6,
   "id": "6487a140",
   "metadata": {},
   "outputs": [],
   "source": [
    "import tensorflow as tf\n",
    "from tensorflow.keras import layers\n",
    "import numpy as np\n",
    "import os\n",
    "import matplotlib.pyplot as plt\n"
   ]
  },
  {
   "cell_type": "markdown",
   "id": "2daf1ff1",
   "metadata": {},
   "source": [
    "Define the Generator"
   ]
  },
  {
   "cell_type": "code",
   "execution_count": 7,
   "id": "c78b5c67",
   "metadata": {},
   "outputs": [],
   "source": [
    "def build_generator(z_dim):\n",
    "    model = tf.keras.Sequential()\n",
    "\n",
    "    # Input layer\n",
    "    model.add(layers.Dense(7*7*256, input_dim=z_dim))\n",
    "    model.add(layers.Reshape((7, 7, 256)))\n",
    "\n",
    "    # Convolutional layers\n",
    "    model.add(layers.Conv2DTranspose(128, kernel_size=3, strides=2, padding='same'))\n",
    "    model.add(layers.BatchNormalization())\n",
    "    model.add(layers.LeakyReLU(alpha=0.01))\n",
    "\n",
    "    model.add(layers.Conv2DTranspose(64, kernel_size=3, strides=2, padding='same'))\n",
    "    model.add(layers.BatchNormalization())\n",
    "    model.add(layers.LeakyReLU(alpha=0.01))\n",
    "\n",
    "    # Output layer\n",
    "    model.add(layers.Conv2DTranspose(1, kernel_size=3, strides=1, padding='same', activation='tanh'))\n",
    "\n",
    "    return model\n"
   ]
  },
  {
   "cell_type": "markdown",
   "id": "05aec874",
   "metadata": {},
   "source": [
    "Define the Discriminator"
   ]
  },
  {
   "cell_type": "code",
   "execution_count": 8,
   "id": "af72e132",
   "metadata": {},
   "outputs": [],
   "source": [
    "def build_discriminator(img_shape):\n",
    "    model = tf.keras.Sequential()\n",
    "\n",
    "    # Input layer\n",
    "    model.add(layers.Conv2D(64, kernel_size=3, strides=2, padding='same', input_shape=img_shape))\n",
    "    model.add(layers.LeakyReLU(alpha=0.01))\n",
    "\n",
    "    # Convolutional layers\n",
    "    model.add(layers.Conv2D(128, kernel_size=3, strides=2, padding='same'))\n",
    "    model.add(layers.BatchNormalization())\n",
    "    model.add(layers.LeakyReLU(alpha=0.01))\n",
    "\n",
    "    # Output layer\n",
    "    model.add(layers.Flatten())\n",
    "    model.add(layers.Dense(1, activation='sigmoid'))\n",
    "\n",
    "    return model\n"
   ]
  },
  {
   "cell_type": "markdown",
   "id": "aa4e638b",
   "metadata": {},
   "source": [
    "Define GAN Model"
   ]
  },
  {
   "cell_type": "code",
   "execution_count": 9,
   "id": "a291294e",
   "metadata": {},
   "outputs": [],
   "source": [
    "def build_gan(generator, discriminator):\n",
    "    discriminator.trainable = False  # Prevent discriminator training during GAN training\n",
    "\n",
    "    model = tf.keras.Sequential()\n",
    "    model.add(generator)\n",
    "    model.add(discriminator)\n",
    "    return model"
   ]
  },
  {
   "cell_type": "markdown",
   "id": "8c101f0e",
   "metadata": {},
   "source": [
    "Define Loss and Optimizers"
   ]
  },
  {
   "cell_type": "code",
   "execution_count": 10,
   "id": "828c1f94",
   "metadata": {},
   "outputs": [],
   "source": [
    "# Loss function for discriminator and generator\n",
    "cross_entropy = tf.keras.losses.BinaryCrossentropy(from_logits=True)\n",
    "\n",
    "# Discriminator optimizer\n",
    "discriminator_optimizer = tf.keras.optimizers.Adam(learning_rate=0.0002, beta_1=0.5)\n",
    "\n",
    "# Generator optimizer\n",
    "generator_optimizer = tf.keras.optimizers.Adam(learning_rate=0.0002, beta_1=0.5)\n"
   ]
  },
  {
   "cell_type": "markdown",
   "id": "89723e8d",
   "metadata": {},
   "source": [
    "Compile Models"
   ]
  },
  {
   "cell_type": "code",
   "execution_count": 11,
   "id": "2409bc5e",
   "metadata": {},
   "outputs": [],
   "source": [
    "discriminator.compile(loss='binary_crossentropy', optimizer=discriminator_optimizer, metrics=['accuracy'])\n",
    "generator.compile(loss='binary_crossentropy', optimizer=generator_optimizer)\n"
   ]
  },
  {
   "cell_type": "markdown",
   "id": "37099ad1",
   "metadata": {},
   "source": [
    "Training Loop"
   ]
  },
  {
   "cell_type": "code",
   "execution_count": 12,
   "id": "feb7b449",
   "metadata": {},
   "outputs": [],
   "source": [
    "def train_gan(generator, discriminator, gan, dataset, z_dim, num_epochs, batch_size):\n",
    "    for epoch in range(num_epochs):\n",
    "        for batch in dataset:\n",
    "            # Train discriminator on real images\n",
    "            d_loss_real = discriminator.train_on_batch(batch, np.ones((batch_size, 1)))\n",
    "\n",
    "            # Generate fake images\n",
    "            z = np.random.normal(0, 1, (batch_size, z_dim))\n",
    "            fake_images = generator.predict(z)\n",
    "\n",
    "            # Train discriminator on fake images\n",
    "            d_loss_fake = discriminator.train_on_batch(fake_images, np.zeros((batch_size, 1)))\n",
    "\n",
    "            # Discriminator loss\n",
    "            d_loss = 0.5 * np.add(d_loss_real, d_loss_fake)\n",
    "\n",
    "            # Train generator\n",
    "            z = np.random.normal(0, 1, (batch_size, z_dim))\n",
    "            g_loss = gan.train_on_batch(z, np.ones((batch_size, 1)))\n",
    "\n",
    "        # Print progress and generate sample images\n",
    "        print(f\"Epoch {epoch}/{num_epochs}, D Loss: {d_loss[0]}, G Loss: {g_loss}\")\n",
    "        if epoch % 10 == 0:\n",
    "            generate_and_save_images(generator, epoch + 1)\n"
   ]
  },
  {
   "cell_type": "markdown",
   "id": "d0565fa7",
   "metadata": {},
   "source": [
    " Generate and Save Sample Images"
   ]
  },
  {
   "cell_type": "code",
   "execution_count": 13,
   "id": "5d54b332",
   "metadata": {},
   "outputs": [],
   "source": [
    "def generate_and_save_images(generator, epoch, z_dim=100, num_samples=16):\n",
    "    z = np.random.normal(0, 1, (num_samples, z_dim))\n",
    "    generated_images = generator.predict(z)\n",
    "    generated_images = 0.5 * generated_images + 0.5  # Rescale to [0, 1]\n",
    "\n",
    "    fig, axes = plt.subplots(4, 4, figsize=(8, 8))\n",
    "    for i, ax in enumerate(axes.flatten()):\n",
    "        ax.imshow(generated_images[i, :, :, 0], cmap='gray')\n",
    "        ax.axis('off')\n",
    "\n",
    "    plt.savefig(f'gan_generated_image_epoch_{epoch}.png')\n",
    "    plt.show()\n"
   ]
  },
  {
   "cell_type": "markdown",
   "id": "702f969b",
   "metadata": {},
   "source": [
    "Train the GAN"
   ]
  },
  {
   "cell_type": "code",
   "execution_count": null,
   "id": "898295fb",
   "metadata": {},
   "outputs": [],
   "source": [
    "# Set hyperparameters\n",
    "z_dim = 100\n",
    "num_epochs = 100\n",
    "batch_size = 64\n",
    "\n",
    "# Create GAN model\n",
    "generator = build_generator(z_dim)\n",
    "discriminator = build_discriminator((64, 64, 1))\n",
    "gan = build_gan(generator, discriminator)\n",
    "\n",
    "# Load and preprocess your image dataset (replace 'your_dataset_folder' with your dataset path)\n",
    "dataset_folder = r\"C:\\Users\\Akshata S\\Desktop\\avatar genaration\\final_images\"\n",
    "image_files = [os.path.join(dataset_folder, f) for f in os.listdir(dataset_folder) if f.endswith(\".jpg\")]\n",
    "\n",
    "# Create a function to preprocess images\n",
    "def preprocess_image(file_path):\n",
    "    img = tf.io.read_file(file_path)\n",
    "    img = tf.image.decode_jpeg(img, channels=1)\n",
    "    img = tf.image.resize(img, (128, 128))  # Adjust the size as needed\n",
    "    img = (img - 127.5) / 127.5  # Normalize to [-1, 1]\n",
    "    return img\n",
    "\n",
    "# Create TensorFlow dataset\n",
    "dataset = tf.data.Dataset.from_tensor_slices(image_files)\n",
    "dataset = dataset.map(preprocess_image, num_parallel_calls=tf.data.experimental.AUTOTUNE)\n",
    "dataset = dataset.shuffle(len(image_files)).batch(batch_size)\n",
    "\n",
    "# Train GAN\n",
    "train_gan(generator, discriminator, gan, dataset, z_dim, num_epochs, batch_size)\n"
   ]
  },
  {
   "cell_type": "markdown",
   "id": "d1cf7f9e",
   "metadata": {},
   "source": [
    "Generate Avatars"
   ]
  },
  {
   "cell_type": "code",
   "execution_count": 15,
   "id": "147fc4c3",
   "metadata": {},
   "outputs": [],
   "source": [
    "def generate_avatar(generator, z_dim=100, num_samples=1):\n",
    "    z = np.random.normal(0, 1, (num_samples, z_dim))\n",
    "    generated_image = generator.predict(z)\n",
    "    generated_image = 0.5 * generated_image + 0.5  # Rescale to [0, 1]\n",
    "    return generated_image\n"
   ]
  }
 ],
 "metadata": {
  "kernelspec": {
   "display_name": "Python 3 (ipykernel)",
   "language": "python",
   "name": "python3"
  },
  "language_info": {
   "codemirror_mode": {
    "name": "ipython",
    "version": 3
   },
   "file_extension": ".py",
   "mimetype": "text/x-python",
   "name": "python",
   "nbconvert_exporter": "python",
   "pygments_lexer": "ipython3",
   "version": "3.10.9"
  }
 },
 "nbformat": 4,
 "nbformat_minor": 5
}
